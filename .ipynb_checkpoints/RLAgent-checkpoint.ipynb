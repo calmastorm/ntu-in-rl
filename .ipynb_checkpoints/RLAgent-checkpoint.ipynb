{
 "cells": [
  {
   "cell_type": "code",
   "execution_count": 1,
   "metadata": {
    "executionInfo": {
     "elapsed": 708,
     "status": "ok",
     "timestamp": 1676469964459,
     "user": {
      "displayName": "Longtao Zheng",
      "userId": "17721972102166804099"
     },
     "user_tz": -480
    },
    "id": "ehHMJ829mzJc"
   },
   "outputs": [
    {
     "name": "stdout",
     "output_type": "stream",
     "text": [
      "False\n",
      "0\n"
     ]
    }
   ],
   "source": [
    "from typing import List, Tuple\n",
    "import copy\n",
    "import numpy as np\n",
    "import matplotlib.pyplot as plt\n",
    "%matplotlib inline\n",
    "\n",
    "# SLURM\n",
    "import torch\n",
    "print(torch.cuda.is_available())  # True 表示可以使用 GPU\n",
    "print(torch.cuda.device_count())  # 显示可用的 GPU 数量"
   ]
  },
  {
   "cell_type": "markdown",
   "metadata": {
    "id": "UHqph9kA6wH7"
   },
   "source": [
    "The following class defines the grid world environment. The grid world looks like:\n",
    "\n",
    "```\n",
    "____________________________________________________________\n",
    "|___|_0_|_1_|_2_|_3_|_4_|_5_|_6_|_7_|_8_|_9_|_10|_11|_12|_13|\n",
    "|_0_|___|___|___|___|___|___|_x_|_x_|___|___|___|___|___|___|\n",
    "|_1_|___|___|___|___|___|___|_x_|_x_|___|___|___|___|___|___|\n",
    "|_2_|___|___|___|_x_|___|___|_x_|_x_|___|___|___|___|_x_|___|\n",
    "|_3_|___|___|___|_x_|___|___|_x_|___|___|___|___|_x_|_x_|___|\n",
    "|_4_|___|_B_|___|_x_|___|___|___|___|___|___|___|_x_|_x_|_G_|\n",
    "|_5_|_A_|___|___|_x_|___|___|___|___|___|___|___|_x_|_x_|___|\n",
    "```\n",
    "\n"
   ]
  },
  {
   "cell_type": "code",
   "execution_count": 2,
   "metadata": {
    "executionInfo": {
     "elapsed": 516,
     "status": "ok",
     "timestamp": 1676469970811,
     "user": {
      "displayName": "Longtao Zheng",
      "userId": "17721972102166804099"
     },
     "user_tz": -480
    },
    "id": "-RMDF0A3oKfX"
   },
   "outputs": [],
   "source": [
    "AGENT = 'A'\n",
    "BOX = 'B'\n",
    "GOAL = 'G'\n",
    "DANGER = 'x'\n",
    "GRID = '_'\n",
    "\n",
    "\n",
    "class CliffBoxGridWorld:\n",
    "    \"\"\"\n",
    "    Cliff Box Pushing Grid World.\n",
    "    \"\"\"\n",
    "    action_space = [1, 2, 3, 4] # 这是各种操作的编号，分别对应左、右、上、下\n",
    "    forces = {\n",
    "        1: np.array([-1, 0]),\n",
    "        2: np.array([1,  0]),\n",
    "        3: np.array([0, -1]),\n",
    "        4: np.array([0,  1]),\n",
    "    }\n",
    "    # 设定环境的大小，初始位置，以及障碍的位置\n",
    "    world_width = 14\n",
    "    world_height = 6\n",
    "    goal_pos = np.array([4, 13])\n",
    "    init_agent_pos = np.array([5, 0])\n",
    "    init_box_pos = np.array([4, 1])\n",
    "    danger_region = [\n",
    "        [(2, 3), (5, 3)],\n",
    "        [(0, 6), (3, 6)],\n",
    "        [(0, 7), (2, 7)],\n",
    "        [(3, 11), (5, 11)],\n",
    "        [(2, 12), (5, 12)],\n",
    "    ]\n",
    "    # 初始化环境，episode length是每个episode的最大长度 超出了就失败结束\n",
    "    def __init__(self,\n",
    "                 episode_length=100,\n",
    "                 render=False,\n",
    "                 ):\n",
    "        \"\"\"\n",
    "        The grid world looks like:\n",
    "        ____________________________________________________________\n",
    "        |___|_0_|_1_|_2_|_3_|_4_|_5_|_6_|_7_|_8_|_9_|_10|_11|_12|_13|\n",
    "        |_0_|___|___|___|___|___|___|_x_|_x_|___|___|___|___|___|___|\n",
    "        |_1_|___|___|___|___|___|___|_x_|_x_|___|___|___|___|___|___|\n",
    "        |_2_|___|___|___|_x_|___|___|_x_|_x_|___|___|___|___|_x_|___|\n",
    "        |_3_|___|___|___|_x_|___|___|_x_|___|___|___|___|_x_|_x_|___|\n",
    "        |_4_|___|_B_|___|_x_|___|___|___|___|___|___|___|_x_|_x_|_G_|\n",
    "        |_5_|_A_|___|___|_x_|___|___|___|___|___|___|___|_x_|_x_|___|\n",
    "        \"\"\"\n",
    "        # Environment configurations.\n",
    "        self.episode_length = episode_length\n",
    "        self.render = render\n",
    "        self.agent_pos = self.init_agent_pos\n",
    "        self.box_pos = self.init_box_pos\n",
    "\n",
    "        # Visualization.\n",
    "        # 渲染，具体操作就是把一些该在哪的字符画出来，比如ABXG。\n",
    "        if self.render:\n",
    "            self.world = np.chararray((self.world_height, self.world_width))\n",
    "            self.last_agent_pos = copy.deepcopy(self.agent_pos)\n",
    "            self.last_box_pos = copy.deepcopy(self.box_pos)\n",
    "            self.world[:] = GRID\n",
    "            for region in self.danger_region:\n",
    "                A, B = region\n",
    "                # 这里可以判断 如果AB位置相同 会提示错误 因为人和箱子不会在同一个位置\n",
    "                assert A[1] == B[1], \"A[1] != B[1]\"\n",
    "                self.world[A[0]:B[0]+1, A[1]] = DANGER\n",
    "            self.world[self.agent_pos[0], self.agent_pos[1]] = AGENT\n",
    "            self.world[self.box_pos[0], self.box_pos[1]] = BOX\n",
    "            self.world[self.goal_pos[0], self.goal_pos[1]] = GOAL\n",
    "\n",
    "    def reset(self):\n",
    "        \"\"\"\n",
    "        重置整个环境，时间步数归零并清空过往操作，然后把箱子和人的位置放回去。\n",
    "\n",
    "        Returns:\n",
    "            The initial state (agent position and box position). 返回初始状态，也就是人和箱子的位置。\n",
    "        \"\"\"\n",
    "        self.timesteps = 0\n",
    "        self.action_history = []\n",
    "        self.agent_pos = self.init_agent_pos\n",
    "        self.box_pos = self.init_box_pos\n",
    "\n",
    "        return tuple([*self.agent_pos.tolist(), *self.box_pos.tolist()])\n",
    "\n",
    "    def step(self, actions: int):\n",
    "        \"\"\" \n",
    "        Args: actions (a list of int). 进行一个操作，并且返回下一个状态。\n",
    "\n",
    "        Returns:\n",
    "            The next state, reward, done, info. 返回下个状态（位置），奖励，是否完成和一些信息。\n",
    "        \"\"\"\n",
    "        self.action_history.append(actions)\n",
    "\n",
    "        # Update the state. 取得当前操作的方向\n",
    "        force = self.forces[actions]\n",
    "        # check if the agent is near the box 如果人和箱子响铃 也就是他们的距离为1\n",
    "        if np.sum(np.abs(self.agent_pos - self.box_pos)) == 1:\n",
    "            # check if box is moved 检查箱子是否可以移动\n",
    "            if all(self.agent_pos + force == self.box_pos):\n",
    "                # check out of boundary 这里要检查推箱子是否会超出边界 如果超出边界就不推 新的self.box_pos会是原来的位置\n",
    "                self.box_pos = self._check_pos_boundary(pos=self.box_pos + force, box_hard_boundary=True)\n",
    "        # move the agent 一样的检查人是否超出边界 如果超出了的话 new_agent_pos就是原来的位置\n",
    "        new_agent_pos = self._check_pos_boundary(self.agent_pos + force) \n",
    "        if not all(new_agent_pos == self.box_pos): # 任何箱子的位置不能重合 这个all函数是分别检查两个轴是否相同\n",
    "            self.agent_pos = new_agent_pos # 不同就移动过去\n",
    "        state = tuple([*self.agent_pos.tolist(), *self.box_pos.tolist()])\n",
    "\n",
    "        # Calculate the rewards 计算奖励，如果时间步等于episode length-1就结束，因为达到一轮游戏的最大时间了\n",
    "        done = self.timesteps == self.episode_length - 1\n",
    "        # the distance between agents and box 计算人和箱子的距离\n",
    "        dist = np.sum(np.abs(self.agent_pos - self.box_pos))\n",
    "        reward = -1  # -1 for each step 每步必定减1\n",
    "        reward -= dist # 奖励还要减去距离，人离箱子越远奖励越少\n",
    "        # if agents or box is off the cliff # 如果人或箱子在悬崖下面 那就直接减1000分 并结束游戏\n",
    "        if self._check_off_cliff(self.agent_pos) or self._check_off_cliff(self.box_pos):\n",
    "            reward += -1000\n",
    "            done = True\n",
    "        # 如果箱子达到了目标地点，直接加1000分 结束游戏\n",
    "        if all(self.box_pos == self.goal_pos):\n",
    "            reward += 1000\n",
    "            done = True\n",
    "        # sum和abs函数来计算箱子和目标地点的距离，距离越远扣除的奖励越多\n",
    "        reward -= np.sum(np.abs(self.box_pos - self.goal_pos))\n",
    "        # 如果要可视化 就更新渲染\n",
    "        if self.render:\n",
    "            self._update_render()\n",
    "        # 自动给时间步数加1\n",
    "        self.timesteps += 1\n",
    "        # 信息为空\n",
    "        info = {}\n",
    "        # 返回上面的四个值 记得这个reward是当前step的值 而不是累计值\n",
    "        return state, reward, done, info\n",
    "    \n",
    "    # 打印出来\n",
    "    def print_world(self):\n",
    "        \"\"\"\n",
    "        Render the world in the command line.\n",
    "        \"\"\"\n",
    "        if len(self.action_history) > 0:\n",
    "            print(f'Action: {self.action_history[-1]}')\n",
    "        print(self.world)\n",
    "\n",
    "    # 上面用到的检查是否到达边界的函数\n",
    "    def _check_pos_boundary(self, pos, box_hard_boundary: bool = False):\n",
    "        \"\"\"\n",
    "        Move the given position within the world bound.\n",
    "        \"\"\"\n",
    "        # 如果超出边界了 就回到边界上 比如 如果小于0 那就回到0 这个对人和箱子都适用\n",
    "        if pos[0] < 0:\n",
    "            pos[0] = 0\n",
    "        if pos[0] >= self.world_height:\n",
    "            pos[0] = self.world_height - 1\n",
    "        if pos[1] < 0:\n",
    "            pos[1] = 0\n",
    "        if pos[1] >= self.world_width:\n",
    "            pos[1] = self.world_width - 1\n",
    "        \n",
    "        if box_hard_boundary: # 这个是检查箱子是不是到边界了 如果到了就不推了\n",
    "            if pos[0] == 0:\n",
    "                pos[0] += 1\n",
    "            elif pos[0] == self.world_height - 1:\n",
    "                pos[0] = self.world_height - 2\n",
    "            if pos[1] == 0:\n",
    "                pos[1] += 1\n",
    "                    \n",
    "        return pos\n",
    "\n",
    "    # 检查某个点是不是到悬崖下面了\n",
    "    def _check_off_cliff(self, pos):\n",
    "        \"\"\"\n",
    "        Check if the given position is off cliff.\n",
    "        \"\"\"\n",
    "        for region in self.danger_region:\n",
    "            # A，B是悬崖的两个点，如果pos在这两个点之间，那就是悬崖下面 这是个区域性检查\n",
    "            A, B = region\n",
    "            assert A[1] == B[1], \"A[1] != B[1]\"\n",
    "            if A[0] <= pos[0] <= B[0] and pos[1] == A[1]:\n",
    "                return True\n",
    "        return False\n",
    "\n",
    "    def _update_render(self):\n",
    "        \"\"\"\n",
    "        Update the render information.\n",
    "        \"\"\"\n",
    "        if not all(self.last_agent_pos == self.agent_pos):\n",
    "                pos = self.last_agent_pos\n",
    "                if (pos[0] != self.goal_pos[0]) or (pos[1] != self.goal_pos[1]):\n",
    "                    self.world[pos[0], pos[1]] = GRID\n",
    "\n",
    "        if not all(self.last_box_pos == self.box_pos):\n",
    "            pos = self.last_box_pos\n",
    "            if self.world[pos[0], pos[1]].decode('UTF-8') not in {AGENT}:\n",
    "                self.world[pos[0], pos[1]] = GRID\n",
    "\n",
    "        if (self.agent_pos[0] != self.goal_pos[0]) or (self.agent_pos[1] != self.goal_pos[1]):\n",
    "            self.world[self.agent_pos[0], self.agent_pos[1]] = AGENT\n",
    "        self.world[self.box_pos[0], self.box_pos[1]] = BOX\n",
    "        self.last_box_pos = copy.deepcopy(self.box_pos)\n",
    "        self.last_agent_pos = copy.deepcopy(self.agent_pos)"
   ]
  },
  {
   "cell_type": "markdown",
   "metadata": {
    "id": "GKUvcFzIY4IX"
   },
   "source": [
    "Here is one example random agent class:"
   ]
  },
  {
   "cell_type": "code",
   "execution_count": 3,
   "metadata": {
    "executionInfo": {
     "elapsed": 348,
     "status": "ok",
     "timestamp": 1676469978101,
     "user": {
      "displayName": "Longtao Zheng",
      "userId": "17721972102166804099"
     },
     "user_tz": -480
    },
    "id": "MjhmwF8VpVki"
   },
   "outputs": [],
   "source": [
    "class RandomAgent: # 随机agent\n",
    "    def __init__(self, env, num_episodes):\n",
    "        self.action_space = [1, 2, 3, 4]\n",
    "        self.env = env\n",
    "        self.num_episodes = num_episodes\n",
    "\n",
    "    def act(self):\n",
    "        \"\"\"Returns a random choice of the available actions\"\"\"\n",
    "        return np.random.choice(self.action_space)\n",
    "\n",
    "    def learn(self):\n",
    "        rewards = []\n",
    "        \n",
    "        for _ in range(self.num_episodes):\n",
    "            cumulative_reward = 0 # Initialise values of each game\n",
    "            state = self.env.reset()\n",
    "            done = False\n",
    "            while not done: # Run until game terminated\n",
    "                action = self.act() \n",
    "                next_state, reward, done, info = self.env.step(action)\n",
    "                cumulative_reward += reward\n",
    "                state = next_state\n",
    "            rewards.append(cumulative_reward)\n",
    "\n",
    "        return rewards"
   ]
  },
  {
   "cell_type": "markdown",
   "metadata": {
    "id": "QYpyzvV8Y7j6"
   },
   "source": [
    "You need to complete the learn() method of the following class to implement your RL algorithm."
   ]
  },
  {
   "cell_type": "code",
   "execution_count": 4,
   "metadata": {
    "executionInfo": {
     "elapsed": 14,
     "status": "ok",
     "timestamp": 1676463847348,
     "user": {
      "displayName": "Longtao Zheng",
      "userId": "17721972102166804099"
     },
     "user_tz": -480
    },
    "id": "vAKVvHmOptDW"
   },
   "outputs": [],
   "source": [
    "class RLAgent: # 强化学习智能体\n",
    "    def __init__(self, env, num_episodes, epsilon=0.1, alpha=0.1, gamma=0.99):\n",
    "        self.action_space = env.action_space # env是输入的环境 也就是悬崖推箱子世界\n",
    "        self.q_table = dict() # Store all Q-values in a dictionary # q表格\n",
    "        # Loop through all possible grid spaces, create sub-dictionary for each\n",
    "        # 遍历每个agent的位置，以及箱子的位置，每个位置都有一个动作空间。\n",
    "        # 为什么要先遍历agent再遍历箱子呢？因为要的就是agent可能在的每一个位置对应箱子可能在的每一个位置。\n",
    "        # 如果有100个agent的位置，那就有100个箱子的位置，那就得总共10000种状态。\n",
    "        # 庞大的状态空间来得到所有的q值。\n",
    "        for agent_x in range(env.world_height):\n",
    "            for agent_y in range(env.world_width):\n",
    "                for box_x in range(env.world_height):\n",
    "                    for box_y in range(env.world_width):\n",
    "                        # Populate sub-dictionary with zero values for possible moves\n",
    "                        self.q_table[(agent_x, agent_y, box_x, box_y)] = {k: 0 for k in self.action_space}\n",
    "\n",
    "        self.env = env\n",
    "        self.num_episodes = num_episodes\n",
    "        self.epsilon = epsilon\n",
    "        self.alpha = alpha\n",
    "        self.gamma = gamma\n",
    "        \n",
    "    def act(self, state, is_training = True):\n",
    "        \"\"\"Returns the (epsilon-greedy) optimal action from Q-Value table.\"\"\"\n",
    "        # 如果是训练模式，那么就有epsilon的概率随机选择一个动作，否则就选择最大Q值的对应动作\n",
    "        if np.random.uniform(0,1) < self.epsilon and is_training:\n",
    "            action = self.action_space[np.random.randint(0, len(self.action_space))]\n",
    "        else:\n",
    "            # 返回q表格中 当前状态下 所有动作的q值\n",
    "            q_values_of_state = self.q_table[state]\n",
    "            # 取其中最大的q值\n",
    "            maxValue = max(q_values_of_state.values())\n",
    "            # 如果当前状态下所有动作的q值 如果某个q值等于最大值 就选择这个k 也就是这个动作 如果有好几个q值都等于最大值 那就随机选择一个对应k\n",
    "            action = np.random.choice([k for k, v in q_values_of_state.items() if v == maxValue])\n",
    "        # 返回一个动作\n",
    "        return action\n",
    "\n",
    "    # 训练函数\n",
    "    def learn(self):\n",
    "        \"\"\"Updates Q-values iteratively.\"\"\"\n",
    "        rewards = []\n",
    "        # 每一轮游戏\n",
    "        for i in range(self.num_episodes):\n",
    "            cumulative_reward = 0 # 初始化奖励值为0\n",
    "            state = self.env.reset() # 重置环境\n",
    "            done = False\n",
    "            while not done: # 只要done不为True 游戏就未结束\n",
    "                # raise NotImplementedError\n",
    "                # TODO: Update Q-values\n",
    "                action = self.act(state) # action: pick an action, may select the best action or a random action\n",
    "                next_state, reward, done, info = self.env.step(action) # take a step, react to the environment\n",
    "                cumulative_reward += reward # accumulate reward\n",
    "                next_action = self.act(next_state) # pick the next action, will be used in updating q table\n",
    "                # gamma is the discount factor, alpha is the learning rate\n",
    "                '''\n",
    "                Update Q table. Locate the Q-value using the corresponding 'state' and 'action'\n",
    "                New Q-value = original Q-value + learning rate * (reward + gamma * Q-value of (next_state, next_action) - original Q-value)\n",
    "                This update follows the SARSA (State-Action-Reward-State-Action) algorithm, which is an on-policy reinforcement learning method.\n",
    "                SARSA updates the Q-value using the action which chosen in the next state, instead of the current best action.\n",
    "                Unlike Q-learning which always assumes the best action in the next state, SARSA learns from the sequence of actions taken.\n",
    "                '''\n",
    "                self.q_table[state][action] += self.alpha * (reward + self.gamma * self.q_table[next_state][next_action] - self.q_table[state][action])\n",
    "                # 最后更新状态\n",
    "                state = next_state\n",
    "            if i % 5000 == 0:\n",
    "                print(f'Episode {i} is training.')\n",
    "            rewards.append(cumulative_reward)\n",
    "        print('Finished learning')\n",
    "        return rewards\n",
    "\n"
   ]
  },
  {
   "cell_type": "markdown",
   "metadata": {
    "id": "T4Zp2jCTZEgw"
   },
   "source": [
    "Here is the game interface where you can manually move the agent."
   ]
  },
  {
   "cell_type": "code",
   "execution_count": 46,
   "metadata": {
    "colab": {
     "base_uri": "https://localhost:8080/"
    },
    "executionInfo": {
     "elapsed": 10398,
     "status": "ok",
     "timestamp": 1676463857733,
     "user": {
      "displayName": "Longtao Zheng",
      "userId": "17721972102166804099"
     },
     "user_tz": -480
    },
    "id": "OK-cjWJA7ymv",
    "outputId": "5ed9e3b2-c2de-4808-d867-e2cb04c9df21"
   },
   "outputs": [
    {
     "name": "stdout",
     "output_type": "stream",
     "text": [
      "[[b'_' b'_' b'_' b'_' b'_' b'_' b'x' b'x' b'_' b'_' b'_' b'_' b'_' b'_']\n",
      " [b'_' b'_' b'_' b'_' b'_' b'_' b'x' b'x' b'_' b'_' b'_' b'_' b'_' b'_']\n",
      " [b'_' b'_' b'_' b'x' b'_' b'_' b'x' b'x' b'_' b'_' b'_' b'_' b'x' b'_']\n",
      " [b'_' b'_' b'_' b'x' b'_' b'_' b'x' b'_' b'_' b'_' b'_' b'x' b'x' b'_']\n",
      " [b'_' b'B' b'_' b'x' b'_' b'_' b'_' b'_' b'_' b'_' b'_' b'x' b'x' b'G']\n",
      " [b'A' b'_' b'_' b'x' b'_' b'_' b'_' b'_' b'_' b'_' b'_' b'x' b'x' b'_']]\n"
     ]
    },
    {
     "name": "stdin",
     "output_type": "stream",
     "text": [
      "Please input the actions (up: 1, down: 2, left: 3, right: 4):  \n"
     ]
    },
    {
     "ename": "ValueError",
     "evalue": "invalid literal for int() with base 10: ''",
     "output_type": "error",
     "traceback": [
      "\u001b[0;31m---------------------------------------------------------------------------\u001b[0m",
      "\u001b[0;31mValueError\u001b[0m                                Traceback (most recent call last)",
      "Cell \u001b[0;32mIn[46], line 8\u001b[0m\n\u001b[1;32m      5\u001b[0m rewards \u001b[38;5;241m=\u001b[39m []\n\u001b[1;32m      7\u001b[0m \u001b[38;5;28;01mwhile\u001b[39;00m \u001b[38;5;129;01mnot\u001b[39;00m done:\n\u001b[0;32m----> 8\u001b[0m     action \u001b[38;5;241m=\u001b[39m \u001b[38;5;28mint\u001b[39m(\u001b[38;5;28minput\u001b[39m(\u001b[38;5;124m\"\u001b[39m\u001b[38;5;124mPlease input the actions (up: 1, down: 2, left: 3, right: 4): \u001b[39m\u001b[38;5;124m\"\u001b[39m))\n\u001b[1;32m      9\u001b[0m     state, reward, done, info \u001b[38;5;241m=\u001b[39m env\u001b[38;5;241m.\u001b[39mstep(action)\n\u001b[1;32m     10\u001b[0m     rewards\u001b[38;5;241m.\u001b[39mappend(reward)\n",
      "\u001b[0;31mValueError\u001b[0m: invalid literal for int() with base 10: ''"
     ]
    },
    {
     "name": "stdout",
     "output_type": "stream",
     "text": [
      "step: 3, state: (3, 1, 2, 1), actions: 1, reward: -16\n",
      "Action: 1\n",
      "[[b'_' b'_' b'_' b'_' b'_' b'_' b'x' b'x' b'_' b'_' b'_' b'_' b'_' b'_']\n",
      " [b'_' b'_' b'_' b'_' b'_' b'_' b'x' b'x' b'_' b'_' b'_' b'_' b'_' b'_']\n",
      " [b'_' b'B' b'_' b'x' b'_' b'_' b'x' b'x' b'_' b'_' b'_' b'_' b'x' b'_']\n",
      " [b'_' b'A' b'_' b'x' b'_' b'_' b'x' b'_' b'_' b'_' b'_' b'x' b'x' b'_']\n",
      " [b'_' b'_' b'_' b'x' b'_' b'_' b'_' b'_' b'_' b'_' b'_' b'x' b'x' b'G']\n",
      " [b'_' b'_' b'_' b'x' b'_' b'_' b'_' b'_' b'_' b'_' b'_' b'x' b'x' b'_']]\n"
     ]
    },
    {
     "name": "stdout",
     "output_type": "stream",
     "text": [
      "Please input the actions (up: 1, down: 2, left: 3, right: 4):  \n"
     ]
    },
    {
     "ename": "ValueError",
     "evalue": "invalid literal for int() with base 10: ''",
     "output_type": "error",
     "traceback": [
      "\u001b[0;31m---------------------------------------------------------------------------\u001b[0m",
      "\u001b[0;31mValueError\u001b[0m                                Traceback (most recent call last)",
      "Cell \u001b[0;32mIn[7], line 8\u001b[0m\n\u001b[1;32m      5\u001b[0m rewards \u001b[38;5;241m=\u001b[39m []\n\u001b[1;32m      7\u001b[0m \u001b[38;5;28;01mwhile\u001b[39;00m \u001b[38;5;129;01mnot\u001b[39;00m done:\n\u001b[0;32m----> 8\u001b[0m     action \u001b[38;5;241m=\u001b[39m \u001b[38;5;28mint\u001b[39m(\u001b[38;5;28minput\u001b[39m(\u001b[38;5;124m\"\u001b[39m\u001b[38;5;124mPlease input the actions (up: 1, down: 2, left: 3, right: 4): \u001b[39m\u001b[38;5;124m\"\u001b[39m))\n\u001b[1;32m      9\u001b[0m     state, reward, done, info \u001b[38;5;241m=\u001b[39m env\u001b[38;5;241m.\u001b[39mstep(action)\n\u001b[1;32m     10\u001b[0m     rewards\u001b[38;5;241m.\u001b[39mappend(reward)\n",
      "\u001b[0;31mValueError\u001b[0m: invalid literal for int() with base 10: ''"
     ]
    }
   ],
   "source": [
    "env = CliffBoxGridWorld(render=True)\n",
    "env.reset()\n",
    "env.print_world()\n",
    "done = False\n",
    "rewards = []\n",
    "\n",
    "while not done:\n",
    "    action = int(input(\"Please input the actions (up: 1, down: 2, left: 3, right: 4): \"))\n",
    "    state, reward, done, info = env.step(action)\n",
    "    rewards.append(reward)\n",
    "    print(f'step: {env.timesteps}, state: {state}, actions: {action}, reward: {reward}')\n",
    "    env.print_world()\n",
    "\n",
    "print(f'rewards: {sum(rewards)}')\n",
    "print(f'action history: {env.action_history}')"
   ]
  },
  {
   "cell_type": "markdown",
   "metadata": {
    "id": "wGyOJYn0ZJf9"
   },
   "source": [
    "Example code to step random agent in the environment."
   ]
  },
  {
   "cell_type": "code",
   "execution_count": 5,
   "metadata": {
    "colab": {
     "base_uri": "https://localhost:8080/",
     "height": 283
    },
    "executionInfo": {
     "elapsed": 947,
     "status": "ok",
     "timestamp": 1676470008831,
     "user": {
      "displayName": "Longtao Zheng",
      "userId": "17721972102166804099"
     },
     "user_tz": -480
    },
    "id": "d6ko9XBZ7z_z",
    "outputId": "20c40233-27ff-4794-e8b0-9c290025c46f"
   },
   "outputs": [
    {
     "data": {
      "text/plain": [
       "[<matplotlib.lines.Line2D at 0x15546050a8d0>]"
      ]
     },
     "execution_count": 5,
     "metadata": {},
     "output_type": "execute_result"
    },
    {
     "data": {
      "image/png": "[encoded data removed]",
      "text/plain": [
       "<Figure size 640x480 with 1 Axes>"
      ]
     },
     "metadata": {},
     "output_type": "display_data"
    }
   ],
   "source": [
    "# 这是随机的那个agent 不用管这里\n",
    "# Initialize the environment and agent\n",
    "env = CliffBoxGridWorld()\n",
    "agent = RandomAgent(env, num_episodes=1000)\n",
    "rewards = agent.learn()\n",
    "\n",
    "# Plot the learning curve\n",
    "plt.plot(rewards)"
   ]
  },
  {
   "cell_type": "markdown",
   "metadata": {
    "collapsed": false,
    "jupyter": {
     "outputs_hidden": false
    }
   },
   "source": [
    "Train your own agent!"
   ]
  },
  {
   "cell_type": "code",
   "execution_count": 6,
   "metadata": {},
   "outputs": [
    {
     "name": "stdout",
     "output_type": "stream",
     "text": [
      "Episode 0 is training.\n",
      "Episode 5000 is training.\n",
      "Episode 10000 is training.\n",
      "Episode 15000 is training.\n",
      "Episode 20000 is training.\n",
      "Episode 25000 is training.\n",
      "Episode 30000 is training.\n",
      "Episode 35000 is training.\n",
      "Episode 40000 is training.\n",
      "Episode 45000 is training.\n",
      "Episode 50000 is training.\n",
      "Episode 55000 is training.\n",
      "Finished learning\n",
      "Success rate: 0.5705\n"
     ]
    },
    {
     "data": {
      "text/plain": [
       "[<matplotlib.lines.Line2D at 0x15546041f230>]"
      ]
     },
     "execution_count": 6,
     "metadata": {},
     "output_type": "execute_result"
    },
    {
     "data": {
      "image/png": "[encoded data removed]",
      "text/plain": [
       "<Figure size 640x480 with 1 Axes>"
      ]
     },
     "metadata": {},
     "output_type": "display_data"
    }
   ],
   "source": [
    "env = CliffBoxGridWorld() # 新建环境\n",
    "agent = RLAgent(env, num_episodes=60000) # 新建智能体 设定训练轮次\n",
    "rewards = agent.learn() # 开学！\n",
    "\n",
    "# Calculate success rate\n",
    "final_rewards = np.array(rewards[-2000:]) # 这个是计算一下最后2000轮的奖励\n",
    "success_rate = np.sum(final_rewards > 0) / len(final_rewards) # 成功率的计算就是奖励大于0的次数除以总次数\n",
    "print(f\"Success rate: {success_rate}\")\n",
    "\n",
    "# Smooth plot\n",
    "weight=0.95 # 平滑权重\n",
    "last = rewards[0] # 上一个奖励值\n",
    "smoothed = [] # 平滑后的奖励值\n",
    "# 这个计算方法就是通过上一个奖励值和当前奖励值来计算平滑后的奖励值\n",
    "# 计算这个值的原因是因为奖励值可能会有很大的波动，这样就能得到一个更平滑的奖励值list\n",
    "for v in rewards:\n",
    "    # 平滑后的就是上一个last * 权重 + （1 - 权重）乘以 当前奖励值v\n",
    "    # 仔细看看就是 0.95*上一个权重 + 0.05*这一个权重\n",
    "    smoothed_val = last * weight + (1 - weight) * v\n",
    "    smoothed.append(smoothed_val)\n",
    "    last = smoothed_val\n",
    "\n",
    "# Plot the learning curve\n",
    "plt.xlabel('Episodes')\n",
    "plt.ylabel('Episode rewards')\n",
    "plt.plot(smoothed)"
   ]
  },
  {
   "cell_type": "markdown",
   "metadata": {
    "id": "5dl7JgziZROA"
   },
   "source": [
    "You need to complete the following method to visualize your training results."
   ]
  },
  {
   "cell_type": "code",
   "execution_count": 16,
   "metadata": {
    "executionInfo": {
     "elapsed": 3,
     "status": "ok",
     "timestamp": 1676463862962,
     "user": {
      "displayName": "Longtao Zheng",
      "userId": "17721972102166804099"
     },
     "user_tz": -480
    },
    "id": "KiSqtBuL73Rf"
   },
   "outputs": [
    {
     "name": "stdout",
     "output_type": "stream",
     "text": [
      "State space: 7056\n",
      "v_table (2, 13, 3, 13) 0.14143990929705208\n",
      "policy (2, 13, 3, 13) 2\n",
      "v_table (1, 13, 3, 13) 0.13955831977499109\n",
      "policy (1, 13, 3, 13) 2\n",
      "v_table (0, 13, 1, 13) 0.126388726147451\n",
      "policy (0, 13, 1, 13) 2\n",
      "v_table (0, 12, 1, 13) 0.12616382673651327\n",
      "policy (0, 12, 1, 13) 4\n",
      "v_table (0, 11, 1, 13) 0.12459547858342758\n",
      "policy (0, 11, 1, 13) 4\n",
      "v_table (1, 12, 1, 13) 0.12326206102472899\n",
      "policy (1, 12, 1, 13) 1\n",
      "v_table (0, 13, 2, 13) 0.12221107582734435\n",
      "policy (0, 13, 2, 13) 2\n",
      "v_table (1, 11, 1, 12) 0.11997958665134567\n",
      "policy (1, 11, 1, 12) 4\n",
      "v_table (1, 12, 2, 13) 0.11915487951333215\n",
      "policy (1, 12, 2, 13) 4\n",
      "v_table (1, 13, 2, 13) 0.11833547635180397\n",
      "policy (1, 13, 2, 13) 2\n",
      "v_table (1, 10, 1, 11) 0.11352465258387737\n",
      "policy (1, 10, 1, 11) 4\n",
      "v_table (0, 13, 3, 13) 0.11284094573714265\n",
      "policy (0, 13, 3, 13) 2\n",
      "v_table (1, 11, 1, 13) 0.11188981702484198\n",
      "policy (1, 11, 1, 13) 1\n",
      "v_table (1, 9, 1, 10) 0.10671601328316985\n",
      "policy (1, 9, 1, 10) 4\n",
      "v_table (0, 9, 1, 10) 0.1037256641944657\n",
      "policy (0, 9, 1, 10) 2\n",
      "v_table (2, 10, 1, 10) 0.10068478254169354\n",
      "policy (2, 10, 1, 10) 3\n",
      "v_table (1, 8, 1, 9) 0.10063870509321836\n",
      "policy (1, 8, 1, 9) 4\n",
      "v_table (1, 11, 2, 13) 0.10028110605063949\n",
      "policy (1, 11, 2, 13) 4\n",
      "v_table (0, 12, 2, 13) 0.09950965629086496\n",
      "policy (0, 12, 2, 13) 4\n",
      "v_table (0, 10, 1, 13) 0.09936542392726823\n",
      "policy (0, 10, 1, 13) 4\n"
     ]
    }
   ],
   "source": [
    "# 这就是已经训练完了，给了一个完整个q table，在这显示一下, 别忘了q_table是字典{((x,y),(x,y)):{1:??, 2:??, 3:??, 4:??}}，它的v还是字典\n",
    "def visualize(q_table):\n",
    "    v_table = {} # v_table就是状态值\n",
    "    policy = {} # 策略 也就是在每个状态下选择的最优动作\n",
    "    for key, v in q_table.items(): # 遍历表格\n",
    "        # TODO: Calculate the state value and policy\n",
    "        v_table[key] = max(v.values()) # return the q-value of the best action in current state\n",
    "        policy[key] = max(v, key=v.get) # return the best action in current state\n",
    "    state_num = len(q_table.keys()) # v_table和policy都做好之后 计算一下状态空间的大小\n",
    "    print(f\"State space: {state_num}\") \n",
    "    \n",
    "    # Print the largest 20 state values in v_table and the corresponding policy\n",
    "    for k, val in sorted(v_table.items(), key=lambda x: x[1], reverse=True)[:20]:\n",
    "      print(\"v_table\", k, val / state_num)\n",
    "      print(\"policy\", k, policy[k])\n",
    "\n",
    "def save_q_table(q_table, file_path):\n",
    "    with open(file_path, 'w') as f:\n",
    "        f.write(\"State\\tUp\\tDown\\tLeft\\tRight\\tPolicy\\n\")\n",
    "        state_num = len(q_table.keys())\n",
    "        for state, actions in q_table.items():\n",
    "            left_q = actions[1]\n",
    "            right_q = actions[2]\n",
    "            up_q = actions[3]\n",
    "            down_q = actions[4]\n",
    "            policy = max(actions, key=actions.get)\n",
    "            if left_q == right_q == up_q == down_q == 0:\n",
    "                continue\n",
    "            state_str = f\"(({state[0]}, {state[1]}), ({state[2]}, {state[3]}))\"\n",
    "            f.write(f\"{state_str}\\t{up_q:.2f}\\t{down_q:.2f}\\t{left_q:.2f}\\t{right_q:.2f}\\t{policy}\\n\")\n",
    "\n",
    "visualize(agent.q_table)\n",
    "save_q_table(agent.q_table, 'q_table.txt')"
   ]
  },
  {
   "cell_type": "markdown",
   "metadata": {
    "collapsed": false,
    "jupyter": {
     "outputs_hidden": false
    }
   },
   "source": [
    "\n",
    "Evaluate the agent without exploration"
   ]
  },
  {
   "cell_type": "code",
   "execution_count": 9,
   "metadata": {
    "collapsed": false,
    "jupyter": {
     "outputs_hidden": false
    }
   },
   "outputs": [
    {
     "name": "stdout",
     "output_type": "stream",
     "text": [
      "1.0\n"
     ]
    }
   ],
   "source": [
    "env = CliffBoxGridWorld(render=True)\n",
    "total_run = 3000 # 测试1000轮\n",
    "success = 0\n",
    "\n",
    "for i in range(total_run): # 每一轮跑 都要重置环境和奖励\n",
    "    state = env.reset()\n",
    "    done = False\n",
    "    rewards = []\n",
    "    \n",
    "    while not done: # 开跑 记得把is_training 关闭\n",
    "        action = agent.act(state, is_training=False)\n",
    "        next_state, reward, done, info = env.step(action)\n",
    "        state = next_state\n",
    "        rewards.append(reward) # 由于不训练 所以不需要修改q_table\n",
    "    if sum(rewards) > 0:\n",
    "        success += 1\n",
    "print(success/total_run)"
   ]
  },
  {
   "cell_type": "markdown",
   "metadata": {
    "collapsed": false,
    "jupyter": {
     "outputs_hidden": false
    }
   },
   "source": [
    "Evaluate the agent with exploration and visualization"
   ]
  },
  {
   "cell_type": "code",
   "execution_count": 10,
   "metadata": {
    "collapsed": false,
    "jupyter": {
     "outputs_hidden": false
    }
   },
   "outputs": [
    {
     "name": "stdout",
     "output_type": "stream",
     "text": [
      "[[b'_' b'_' b'_' b'_' b'_' b'_' b'x' b'x' b'_' b'_' b'_' b'_' b'_' b'_']\n",
      " [b'_' b'_' b'_' b'_' b'_' b'_' b'x' b'x' b'_' b'_' b'_' b'_' b'_' b'_']\n",
      " [b'_' b'_' b'_' b'x' b'_' b'_' b'x' b'x' b'_' b'_' b'_' b'_' b'x' b'_']\n",
      " [b'_' b'_' b'_' b'x' b'_' b'_' b'x' b'_' b'_' b'_' b'_' b'x' b'x' b'_']\n",
      " [b'_' b'B' b'_' b'x' b'_' b'_' b'_' b'_' b'_' b'_' b'_' b'x' b'x' b'G']\n",
      " [b'A' b'_' b'_' b'x' b'_' b'_' b'_' b'_' b'_' b'_' b'_' b'x' b'x' b'_']]\n",
      "step: 1, state: (5, 1, 4, 1), actions: 4, reward: -14\n",
      "Action: 4\n",
      "[[b'_' b'_' b'_' b'_' b'_' b'_' b'x' b'x' b'_' b'_' b'_' b'_' b'_' b'_']\n",
      " [b'_' b'_' b'_' b'_' b'_' b'_' b'x' b'x' b'_' b'_' b'_' b'_' b'_' b'_']\n",
      " [b'_' b'_' b'_' b'x' b'_' b'_' b'x' b'x' b'_' b'_' b'_' b'_' b'x' b'_']\n",
      " [b'_' b'_' b'_' b'x' b'_' b'_' b'x' b'_' b'_' b'_' b'_' b'x' b'x' b'_']\n",
      " [b'_' b'B' b'_' b'x' b'_' b'_' b'_' b'_' b'_' b'_' b'_' b'x' b'x' b'G']\n",
      " [b'_' b'A' b'_' b'x' b'_' b'_' b'_' b'_' b'_' b'_' b'_' b'x' b'x' b'_']]\n",
      "step: 2, state: (5, 2, 4, 1), actions: 4, reward: -15\n",
      "Action: 4\n",
      "[[b'_' b'_' b'_' b'_' b'_' b'_' b'x' b'x' b'_' b'_' b'_' b'_' b'_' b'_']\n",
      " [b'_' b'_' b'_' b'_' b'_' b'_' b'x' b'x' b'_' b'_' b'_' b'_' b'_' b'_']\n",
      " [b'_' b'_' b'_' b'x' b'_' b'_' b'x' b'x' b'_' b'_' b'_' b'_' b'x' b'_']\n",
      " [b'_' b'_' b'_' b'x' b'_' b'_' b'x' b'_' b'_' b'_' b'_' b'x' b'x' b'_']\n",
      " [b'_' b'B' b'_' b'x' b'_' b'_' b'_' b'_' b'_' b'_' b'_' b'x' b'x' b'G']\n",
      " [b'_' b'_' b'A' b'x' b'_' b'_' b'_' b'_' b'_' b'_' b'_' b'x' b'x' b'_']]\n",
      "step: 3, state: (5, 1, 4, 1), actions: 3, reward: -14\n",
      "Action: 3\n",
      "[[b'_' b'_' b'_' b'_' b'_' b'_' b'x' b'x' b'_' b'_' b'_' b'_' b'_' b'_']\n",
      " [b'_' b'_' b'_' b'_' b'_' b'_' b'x' b'x' b'_' b'_' b'_' b'_' b'_' b'_']\n",
      " [b'_' b'_' b'_' b'x' b'_' b'_' b'x' b'x' b'_' b'_' b'_' b'_' b'x' b'_']\n",
      " [b'_' b'_' b'_' b'x' b'_' b'_' b'x' b'_' b'_' b'_' b'_' b'x' b'x' b'_']\n",
      " [b'_' b'B' b'_' b'x' b'_' b'_' b'_' b'_' b'_' b'_' b'_' b'x' b'x' b'G']\n",
      " [b'_' b'A' b'_' b'x' b'_' b'_' b'_' b'_' b'_' b'_' b'_' b'x' b'x' b'_']]\n",
      "step: 4, state: (4, 1, 3, 1), actions: 1, reward: -15\n",
      "Action: 1\n",
      "[[b'_' b'_' b'_' b'_' b'_' b'_' b'x' b'x' b'_' b'_' b'_' b'_' b'_' b'_']\n",
      " [b'_' b'_' b'_' b'_' b'_' b'_' b'x' b'x' b'_' b'_' b'_' b'_' b'_' b'_']\n",
      " [b'_' b'_' b'_' b'x' b'_' b'_' b'x' b'x' b'_' b'_' b'_' b'_' b'x' b'_']\n",
      " [b'_' b'B' b'_' b'x' b'_' b'_' b'x' b'_' b'_' b'_' b'_' b'x' b'x' b'_']\n",
      " [b'_' b'A' b'_' b'x' b'_' b'_' b'_' b'_' b'_' b'_' b'_' b'x' b'x' b'G']\n",
      " [b'_' b'_' b'_' b'x' b'_' b'_' b'_' b'_' b'_' b'_' b'_' b'x' b'x' b'_']]\n",
      "step: 5, state: (3, 1, 2, 1), actions: 1, reward: -16\n",
      "Action: 1\n",
      "[[b'_' b'_' b'_' b'_' b'_' b'_' b'x' b'x' b'_' b'_' b'_' b'_' b'_' b'_']\n",
      " [b'_' b'_' b'_' b'_' b'_' b'_' b'x' b'x' b'_' b'_' b'_' b'_' b'_' b'_']\n",
      " [b'_' b'B' b'_' b'x' b'_' b'_' b'x' b'x' b'_' b'_' b'_' b'_' b'x' b'_']\n",
      " [b'_' b'A' b'_' b'x' b'_' b'_' b'x' b'_' b'_' b'_' b'_' b'x' b'x' b'_']\n",
      " [b'_' b'_' b'_' b'x' b'_' b'_' b'_' b'_' b'_' b'_' b'_' b'x' b'x' b'G']\n",
      " [b'_' b'_' b'_' b'x' b'_' b'_' b'_' b'_' b'_' b'_' b'_' b'x' b'x' b'_']]\n",
      "step: 6, state: (2, 1, 1, 1), actions: 1, reward: -17\n",
      "Action: 1\n",
      "[[b'_' b'_' b'_' b'_' b'_' b'_' b'x' b'x' b'_' b'_' b'_' b'_' b'_' b'_']\n",
      " [b'_' b'B' b'_' b'_' b'_' b'_' b'x' b'x' b'_' b'_' b'_' b'_' b'_' b'_']\n",
      " [b'_' b'A' b'_' b'x' b'_' b'_' b'x' b'x' b'_' b'_' b'_' b'_' b'x' b'_']\n",
      " [b'_' b'_' b'_' b'x' b'_' b'_' b'x' b'_' b'_' b'_' b'_' b'x' b'x' b'_']\n",
      " [b'_' b'_' b'_' b'x' b'_' b'_' b'_' b'_' b'_' b'_' b'_' b'x' b'x' b'G']\n",
      " [b'_' b'_' b'_' b'x' b'_' b'_' b'_' b'_' b'_' b'_' b'_' b'x' b'x' b'_']]\n",
      "step: 7, state: (2, 0, 1, 1), actions: 3, reward: -18\n",
      "Action: 3\n",
      "[[b'_' b'_' b'_' b'_' b'_' b'_' b'x' b'x' b'_' b'_' b'_' b'_' b'_' b'_']\n",
      " [b'_' b'B' b'_' b'_' b'_' b'_' b'x' b'x' b'_' b'_' b'_' b'_' b'_' b'_']\n",
      " [b'A' b'_' b'_' b'x' b'_' b'_' b'x' b'x' b'_' b'_' b'_' b'_' b'x' b'_']\n",
      " [b'_' b'_' b'_' b'x' b'_' b'_' b'x' b'_' b'_' b'_' b'_' b'x' b'x' b'_']\n",
      " [b'_' b'_' b'_' b'x' b'_' b'_' b'_' b'_' b'_' b'_' b'_' b'x' b'x' b'G']\n",
      " [b'_' b'_' b'_' b'x' b'_' b'_' b'_' b'_' b'_' b'_' b'_' b'x' b'x' b'_']]\n",
      "step: 8, state: (1, 0, 1, 1), actions: 1, reward: -17\n",
      "Action: 1\n",
      "[[b'_' b'_' b'_' b'_' b'_' b'_' b'x' b'x' b'_' b'_' b'_' b'_' b'_' b'_']\n",
      " [b'A' b'B' b'_' b'_' b'_' b'_' b'x' b'x' b'_' b'_' b'_' b'_' b'_' b'_']\n",
      " [b'_' b'_' b'_' b'x' b'_' b'_' b'x' b'x' b'_' b'_' b'_' b'_' b'x' b'_']\n",
      " [b'_' b'_' b'_' b'x' b'_' b'_' b'x' b'_' b'_' b'_' b'_' b'x' b'x' b'_']\n",
      " [b'_' b'_' b'_' b'x' b'_' b'_' b'_' b'_' b'_' b'_' b'_' b'x' b'x' b'G']\n",
      " [b'_' b'_' b'_' b'x' b'_' b'_' b'_' b'_' b'_' b'_' b'_' b'x' b'x' b'_']]\n",
      "step: 9, state: (1, 1, 1, 2), actions: 4, reward: -16\n",
      "Action: 4\n",
      "[[b'_' b'_' b'_' b'_' b'_' b'_' b'x' b'x' b'_' b'_' b'_' b'_' b'_' b'_']\n",
      " [b'_' b'A' b'B' b'_' b'_' b'_' b'x' b'x' b'_' b'_' b'_' b'_' b'_' b'_']\n",
      " [b'_' b'_' b'_' b'x' b'_' b'_' b'x' b'x' b'_' b'_' b'_' b'_' b'x' b'_']\n",
      " [b'_' b'_' b'_' b'x' b'_' b'_' b'x' b'_' b'_' b'_' b'_' b'x' b'x' b'_']\n",
      " [b'_' b'_' b'_' b'x' b'_' b'_' b'_' b'_' b'_' b'_' b'_' b'x' b'x' b'G']\n",
      " [b'_' b'_' b'_' b'x' b'_' b'_' b'_' b'_' b'_' b'_' b'_' b'x' b'x' b'_']]\n",
      "step: 10, state: (1, 2, 1, 3), actions: 4, reward: -15\n",
      "Action: 4\n",
      "[[b'_' b'_' b'_' b'_' b'_' b'_' b'x' b'x' b'_' b'_' b'_' b'_' b'_' b'_']\n",
      " [b'_' b'_' b'A' b'B' b'_' b'_' b'x' b'x' b'_' b'_' b'_' b'_' b'_' b'_']\n",
      " [b'_' b'_' b'_' b'x' b'_' b'_' b'x' b'x' b'_' b'_' b'_' b'_' b'x' b'_']\n",
      " [b'_' b'_' b'_' b'x' b'_' b'_' b'x' b'_' b'_' b'_' b'_' b'x' b'x' b'_']\n",
      " [b'_' b'_' b'_' b'x' b'_' b'_' b'_' b'_' b'_' b'_' b'_' b'x' b'x' b'G']\n",
      " [b'_' b'_' b'_' b'x' b'_' b'_' b'_' b'_' b'_' b'_' b'_' b'x' b'x' b'_']]\n",
      "step: 11, state: (1, 3, 1, 4), actions: 4, reward: -14\n",
      "Action: 4\n",
      "[[b'_' b'_' b'_' b'_' b'_' b'_' b'x' b'x' b'_' b'_' b'_' b'_' b'_' b'_']\n",
      " [b'_' b'_' b'_' b'A' b'B' b'_' b'x' b'x' b'_' b'_' b'_' b'_' b'_' b'_']\n",
      " [b'_' b'_' b'_' b'x' b'_' b'_' b'x' b'x' b'_' b'_' b'_' b'_' b'x' b'_']\n",
      " [b'_' b'_' b'_' b'x' b'_' b'_' b'x' b'_' b'_' b'_' b'_' b'x' b'x' b'_']\n",
      " [b'_' b'_' b'_' b'x' b'_' b'_' b'_' b'_' b'_' b'_' b'_' b'x' b'x' b'G']\n",
      " [b'_' b'_' b'_' b'x' b'_' b'_' b'_' b'_' b'_' b'_' b'_' b'x' b'x' b'_']]\n",
      "step: 12, state: (1, 4, 1, 5), actions: 4, reward: -13\n",
      "Action: 4\n",
      "[[b'_' b'_' b'_' b'_' b'_' b'_' b'x' b'x' b'_' b'_' b'_' b'_' b'_' b'_']\n",
      " [b'_' b'_' b'_' b'_' b'A' b'B' b'x' b'x' b'_' b'_' b'_' b'_' b'_' b'_']\n",
      " [b'_' b'_' b'_' b'x' b'_' b'_' b'x' b'x' b'_' b'_' b'_' b'_' b'x' b'_']\n",
      " [b'_' b'_' b'_' b'x' b'_' b'_' b'x' b'_' b'_' b'_' b'_' b'x' b'x' b'_']\n",
      " [b'_' b'_' b'_' b'x' b'_' b'_' b'_' b'_' b'_' b'_' b'_' b'x' b'x' b'G']\n",
      " [b'_' b'_' b'_' b'x' b'_' b'_' b'_' b'_' b'_' b'_' b'_' b'x' b'x' b'_']]\n",
      "step: 13, state: (0, 4, 1, 5), actions: 1, reward: -14\n",
      "Action: 1\n",
      "[[b'_' b'_' b'_' b'_' b'A' b'_' b'x' b'x' b'_' b'_' b'_' b'_' b'_' b'_']\n",
      " [b'_' b'_' b'_' b'_' b'_' b'B' b'x' b'x' b'_' b'_' b'_' b'_' b'_' b'_']\n",
      " [b'_' b'_' b'_' b'x' b'_' b'_' b'x' b'x' b'_' b'_' b'_' b'_' b'x' b'_']\n",
      " [b'_' b'_' b'_' b'x' b'_' b'_' b'x' b'_' b'_' b'_' b'_' b'x' b'x' b'_']\n",
      " [b'_' b'_' b'_' b'x' b'_' b'_' b'_' b'_' b'_' b'_' b'_' b'x' b'x' b'G']\n",
      " [b'_' b'_' b'_' b'x' b'_' b'_' b'_' b'_' b'_' b'_' b'_' b'x' b'x' b'_']]\n",
      "step: 14, state: (0, 5, 1, 5), actions: 4, reward: -13\n",
      "Action: 4\n",
      "[[b'_' b'_' b'_' b'_' b'_' b'A' b'x' b'x' b'_' b'_' b'_' b'_' b'_' b'_']\n",
      " [b'_' b'_' b'_' b'_' b'_' b'B' b'x' b'x' b'_' b'_' b'_' b'_' b'_' b'_']\n",
      " [b'_' b'_' b'_' b'x' b'_' b'_' b'x' b'x' b'_' b'_' b'_' b'_' b'x' b'_']\n",
      " [b'_' b'_' b'_' b'x' b'_' b'_' b'x' b'_' b'_' b'_' b'_' b'x' b'x' b'_']\n",
      " [b'_' b'_' b'_' b'x' b'_' b'_' b'_' b'_' b'_' b'_' b'_' b'x' b'x' b'G']\n",
      " [b'_' b'_' b'_' b'x' b'_' b'_' b'_' b'_' b'_' b'_' b'_' b'x' b'x' b'_']]\n",
      "step: 15, state: (1, 5, 2, 5), actions: 2, reward: -12\n",
      "Action: 2\n",
      "[[b'_' b'_' b'_' b'_' b'_' b'_' b'x' b'x' b'_' b'_' b'_' b'_' b'_' b'_']\n",
      " [b'_' b'_' b'_' b'_' b'_' b'A' b'x' b'x' b'_' b'_' b'_' b'_' b'_' b'_']\n",
      " [b'_' b'_' b'_' b'x' b'_' b'B' b'x' b'x' b'_' b'_' b'_' b'_' b'x' b'_']\n",
      " [b'_' b'_' b'_' b'x' b'_' b'_' b'x' b'_' b'_' b'_' b'_' b'x' b'x' b'_']\n",
      " [b'_' b'_' b'_' b'x' b'_' b'_' b'_' b'_' b'_' b'_' b'_' b'x' b'x' b'G']\n",
      " [b'_' b'_' b'_' b'x' b'_' b'_' b'_' b'_' b'_' b'_' b'_' b'x' b'x' b'_']]\n",
      "step: 16, state: (2, 5, 3, 5), actions: 2, reward: -11\n",
      "Action: 2\n",
      "[[b'_' b'_' b'_' b'_' b'_' b'_' b'x' b'x' b'_' b'_' b'_' b'_' b'_' b'_']\n",
      " [b'_' b'_' b'_' b'_' b'_' b'_' b'x' b'x' b'_' b'_' b'_' b'_' b'_' b'_']\n",
      " [b'_' b'_' b'_' b'x' b'_' b'A' b'x' b'x' b'_' b'_' b'_' b'_' b'x' b'_']\n",
      " [b'_' b'_' b'_' b'x' b'_' b'B' b'x' b'_' b'_' b'_' b'_' b'x' b'x' b'_']\n",
      " [b'_' b'_' b'_' b'x' b'_' b'_' b'_' b'_' b'_' b'_' b'_' b'x' b'x' b'G']\n",
      " [b'_' b'_' b'_' b'x' b'_' b'_' b'_' b'_' b'_' b'_' b'_' b'x' b'x' b'_']]\n",
      "step: 17, state: (3, 5, 4, 5), actions: 2, reward: -10\n",
      "Action: 2\n",
      "[[b'_' b'_' b'_' b'_' b'_' b'_' b'x' b'x' b'_' b'_' b'_' b'_' b'_' b'_']\n",
      " [b'_' b'_' b'_' b'_' b'_' b'_' b'x' b'x' b'_' b'_' b'_' b'_' b'_' b'_']\n",
      " [b'_' b'_' b'_' b'x' b'_' b'_' b'x' b'x' b'_' b'_' b'_' b'_' b'x' b'_']\n",
      " [b'_' b'_' b'_' b'x' b'_' b'A' b'x' b'_' b'_' b'_' b'_' b'x' b'x' b'_']\n",
      " [b'_' b'_' b'_' b'x' b'_' b'B' b'_' b'_' b'_' b'_' b'_' b'x' b'x' b'G']\n",
      " [b'_' b'_' b'_' b'x' b'_' b'_' b'_' b'_' b'_' b'_' b'_' b'x' b'x' b'_']]\n",
      "step: 18, state: (3, 4, 4, 5), actions: 3, reward: -11\n",
      "Action: 3\n",
      "[[b'_' b'_' b'_' b'_' b'_' b'_' b'x' b'x' b'_' b'_' b'_' b'_' b'_' b'_']\n",
      " [b'_' b'_' b'_' b'_' b'_' b'_' b'x' b'x' b'_' b'_' b'_' b'_' b'_' b'_']\n",
      " [b'_' b'_' b'_' b'x' b'_' b'_' b'x' b'x' b'_' b'_' b'_' b'_' b'x' b'_']\n",
      " [b'_' b'_' b'_' b'x' b'A' b'_' b'x' b'_' b'_' b'_' b'_' b'x' b'x' b'_']\n",
      " [b'_' b'_' b'_' b'x' b'_' b'B' b'_' b'_' b'_' b'_' b'_' b'x' b'x' b'G']\n",
      " [b'_' b'_' b'_' b'x' b'_' b'_' b'_' b'_' b'_' b'_' b'_' b'x' b'x' b'_']]\n",
      "step: 19, state: (4, 4, 4, 5), actions: 2, reward: -10\n",
      "Action: 2\n",
      "[[b'_' b'_' b'_' b'_' b'_' b'_' b'x' b'x' b'_' b'_' b'_' b'_' b'_' b'_']\n",
      " [b'_' b'_' b'_' b'_' b'_' b'_' b'x' b'x' b'_' b'_' b'_' b'_' b'_' b'_']\n",
      " [b'_' b'_' b'_' b'x' b'_' b'_' b'x' b'x' b'_' b'_' b'_' b'_' b'x' b'_']\n",
      " [b'_' b'_' b'_' b'x' b'_' b'_' b'x' b'_' b'_' b'_' b'_' b'x' b'x' b'_']\n",
      " [b'_' b'_' b'_' b'x' b'A' b'B' b'_' b'_' b'_' b'_' b'_' b'x' b'x' b'G']\n",
      " [b'_' b'_' b'_' b'x' b'_' b'_' b'_' b'_' b'_' b'_' b'_' b'x' b'x' b'_']]\n",
      "step: 20, state: (4, 5, 4, 6), actions: 4, reward: -9\n",
      "Action: 4\n",
      "[[b'_' b'_' b'_' b'_' b'_' b'_' b'x' b'x' b'_' b'_' b'_' b'_' b'_' b'_']\n",
      " [b'_' b'_' b'_' b'_' b'_' b'_' b'x' b'x' b'_' b'_' b'_' b'_' b'_' b'_']\n",
      " [b'_' b'_' b'_' b'x' b'_' b'_' b'x' b'x' b'_' b'_' b'_' b'_' b'x' b'_']\n",
      " [b'_' b'_' b'_' b'x' b'_' b'_' b'x' b'_' b'_' b'_' b'_' b'x' b'x' b'_']\n",
      " [b'_' b'_' b'_' b'x' b'_' b'A' b'B' b'_' b'_' b'_' b'_' b'x' b'x' b'G']\n",
      " [b'_' b'_' b'_' b'x' b'_' b'_' b'_' b'_' b'_' b'_' b'_' b'x' b'x' b'_']]\n",
      "step: 21, state: (4, 6, 4, 7), actions: 4, reward: -8\n",
      "Action: 4\n",
      "[[b'_' b'_' b'_' b'_' b'_' b'_' b'x' b'x' b'_' b'_' b'_' b'_' b'_' b'_']\n",
      " [b'_' b'_' b'_' b'_' b'_' b'_' b'x' b'x' b'_' b'_' b'_' b'_' b'_' b'_']\n",
      " [b'_' b'_' b'_' b'x' b'_' b'_' b'x' b'x' b'_' b'_' b'_' b'_' b'x' b'_']\n",
      " [b'_' b'_' b'_' b'x' b'_' b'_' b'x' b'_' b'_' b'_' b'_' b'x' b'x' b'_']\n",
      " [b'_' b'_' b'_' b'x' b'_' b'_' b'A' b'B' b'_' b'_' b'_' b'x' b'x' b'G']\n",
      " [b'_' b'_' b'_' b'x' b'_' b'_' b'_' b'_' b'_' b'_' b'_' b'x' b'x' b'_']]\n",
      "step: 22, state: (4, 7, 4, 8), actions: 4, reward: -7\n",
      "Action: 4\n",
      "[[b'_' b'_' b'_' b'_' b'_' b'_' b'x' b'x' b'_' b'_' b'_' b'_' b'_' b'_']\n",
      " [b'_' b'_' b'_' b'_' b'_' b'_' b'x' b'x' b'_' b'_' b'_' b'_' b'_' b'_']\n",
      " [b'_' b'_' b'_' b'x' b'_' b'_' b'x' b'x' b'_' b'_' b'_' b'_' b'x' b'_']\n",
      " [b'_' b'_' b'_' b'x' b'_' b'_' b'x' b'_' b'_' b'_' b'_' b'x' b'x' b'_']\n",
      " [b'_' b'_' b'_' b'x' b'_' b'_' b'_' b'A' b'B' b'_' b'_' b'x' b'x' b'G']\n",
      " [b'_' b'_' b'_' b'x' b'_' b'_' b'_' b'_' b'_' b'_' b'_' b'x' b'x' b'_']]\n",
      "step: 23, state: (4, 8, 4, 9), actions: 4, reward: -6\n",
      "Action: 4\n",
      "[[b'_' b'_' b'_' b'_' b'_' b'_' b'x' b'x' b'_' b'_' b'_' b'_' b'_' b'_']\n",
      " [b'_' b'_' b'_' b'_' b'_' b'_' b'x' b'x' b'_' b'_' b'_' b'_' b'_' b'_']\n",
      " [b'_' b'_' b'_' b'x' b'_' b'_' b'x' b'x' b'_' b'_' b'_' b'_' b'x' b'_']\n",
      " [b'_' b'_' b'_' b'x' b'_' b'_' b'x' b'_' b'_' b'_' b'_' b'x' b'x' b'_']\n",
      " [b'_' b'_' b'_' b'x' b'_' b'_' b'_' b'_' b'A' b'B' b'_' b'x' b'x' b'G']\n",
      " [b'_' b'_' b'_' b'x' b'_' b'_' b'_' b'_' b'_' b'_' b'_' b'x' b'x' b'_']]\n",
      "step: 24, state: (5, 8, 4, 9), actions: 2, reward: -7\n",
      "Action: 2\n",
      "[[b'_' b'_' b'_' b'_' b'_' b'_' b'x' b'x' b'_' b'_' b'_' b'_' b'_' b'_']\n",
      " [b'_' b'_' b'_' b'_' b'_' b'_' b'x' b'x' b'_' b'_' b'_' b'_' b'_' b'_']\n",
      " [b'_' b'_' b'_' b'x' b'_' b'_' b'x' b'x' b'_' b'_' b'_' b'_' b'x' b'_']\n",
      " [b'_' b'_' b'_' b'x' b'_' b'_' b'x' b'_' b'_' b'_' b'_' b'x' b'x' b'_']\n",
      " [b'_' b'_' b'_' b'x' b'_' b'_' b'_' b'_' b'_' b'B' b'_' b'x' b'x' b'G']\n",
      " [b'_' b'_' b'_' b'x' b'_' b'_' b'_' b'_' b'A' b'_' b'_' b'x' b'x' b'_']]\n",
      "step: 25, state: (5, 9, 4, 9), actions: 4, reward: -6\n",
      "Action: 4\n",
      "[[b'_' b'_' b'_' b'_' b'_' b'_' b'x' b'x' b'_' b'_' b'_' b'_' b'_' b'_']\n",
      " [b'_' b'_' b'_' b'_' b'_' b'_' b'x' b'x' b'_' b'_' b'_' b'_' b'_' b'_']\n",
      " [b'_' b'_' b'_' b'x' b'_' b'_' b'x' b'x' b'_' b'_' b'_' b'_' b'x' b'_']\n",
      " [b'_' b'_' b'_' b'x' b'_' b'_' b'x' b'_' b'_' b'_' b'_' b'x' b'x' b'_']\n",
      " [b'_' b'_' b'_' b'x' b'_' b'_' b'_' b'_' b'_' b'B' b'_' b'x' b'x' b'G']\n",
      " [b'_' b'_' b'_' b'x' b'_' b'_' b'_' b'_' b'_' b'A' b'_' b'x' b'x' b'_']]\n",
      "step: 26, state: (4, 9, 3, 9), actions: 1, reward: -7\n",
      "Action: 1\n",
      "[[b'_' b'_' b'_' b'_' b'_' b'_' b'x' b'x' b'_' b'_' b'_' b'_' b'_' b'_']\n",
      " [b'_' b'_' b'_' b'_' b'_' b'_' b'x' b'x' b'_' b'_' b'_' b'_' b'_' b'_']\n",
      " [b'_' b'_' b'_' b'x' b'_' b'_' b'x' b'x' b'_' b'_' b'_' b'_' b'x' b'_']\n",
      " [b'_' b'_' b'_' b'x' b'_' b'_' b'x' b'_' b'_' b'B' b'_' b'x' b'x' b'_']\n",
      " [b'_' b'_' b'_' b'x' b'_' b'_' b'_' b'_' b'_' b'A' b'_' b'x' b'x' b'G']\n",
      " [b'_' b'_' b'_' b'x' b'_' b'_' b'_' b'_' b'_' b'_' b'_' b'x' b'x' b'_']]\n",
      "step: 27, state: (3, 9, 2, 9), actions: 1, reward: -8\n",
      "Action: 1\n",
      "[[b'_' b'_' b'_' b'_' b'_' b'_' b'x' b'x' b'_' b'_' b'_' b'_' b'_' b'_']\n",
      " [b'_' b'_' b'_' b'_' b'_' b'_' b'x' b'x' b'_' b'_' b'_' b'_' b'_' b'_']\n",
      " [b'_' b'_' b'_' b'x' b'_' b'_' b'x' b'x' b'_' b'B' b'_' b'_' b'x' b'_']\n",
      " [b'_' b'_' b'_' b'x' b'_' b'_' b'x' b'_' b'_' b'A' b'_' b'x' b'x' b'_']\n",
      " [b'_' b'_' b'_' b'x' b'_' b'_' b'_' b'_' b'_' b'_' b'_' b'x' b'x' b'G']\n",
      " [b'_' b'_' b'_' b'x' b'_' b'_' b'_' b'_' b'_' b'_' b'_' b'x' b'x' b'_']]\n",
      "step: 28, state: (2, 9, 1, 9), actions: 1, reward: -9\n",
      "Action: 1\n",
      "[[b'_' b'_' b'_' b'_' b'_' b'_' b'x' b'x' b'_' b'_' b'_' b'_' b'_' b'_']\n",
      " [b'_' b'_' b'_' b'_' b'_' b'_' b'x' b'x' b'_' b'B' b'_' b'_' b'_' b'_']\n",
      " [b'_' b'_' b'_' b'x' b'_' b'_' b'x' b'x' b'_' b'A' b'_' b'_' b'x' b'_']\n",
      " [b'_' b'_' b'_' b'x' b'_' b'_' b'x' b'_' b'_' b'_' b'_' b'x' b'x' b'_']\n",
      " [b'_' b'_' b'_' b'x' b'_' b'_' b'_' b'_' b'_' b'_' b'_' b'x' b'x' b'G']\n",
      " [b'_' b'_' b'_' b'x' b'_' b'_' b'_' b'_' b'_' b'_' b'_' b'x' b'x' b'_']]\n",
      "step: 29, state: (2, 8, 1, 9), actions: 3, reward: -10\n",
      "Action: 3\n",
      "[[b'_' b'_' b'_' b'_' b'_' b'_' b'x' b'x' b'_' b'_' b'_' b'_' b'_' b'_']\n",
      " [b'_' b'_' b'_' b'_' b'_' b'_' b'x' b'x' b'_' b'B' b'_' b'_' b'_' b'_']\n",
      " [b'_' b'_' b'_' b'x' b'_' b'_' b'x' b'x' b'A' b'_' b'_' b'_' b'x' b'_']\n",
      " [b'_' b'_' b'_' b'x' b'_' b'_' b'x' b'_' b'_' b'_' b'_' b'x' b'x' b'_']\n",
      " [b'_' b'_' b'_' b'x' b'_' b'_' b'_' b'_' b'_' b'_' b'_' b'x' b'x' b'G']\n",
      " [b'_' b'_' b'_' b'x' b'_' b'_' b'_' b'_' b'_' b'_' b'_' b'x' b'x' b'_']]\n",
      "step: 30, state: (1, 8, 1, 9), actions: 1, reward: -9\n",
      "Action: 1\n",
      "[[b'_' b'_' b'_' b'_' b'_' b'_' b'x' b'x' b'_' b'_' b'_' b'_' b'_' b'_']\n",
      " [b'_' b'_' b'_' b'_' b'_' b'_' b'x' b'x' b'A' b'B' b'_' b'_' b'_' b'_']\n",
      " [b'_' b'_' b'_' b'x' b'_' b'_' b'x' b'x' b'_' b'_' b'_' b'_' b'x' b'_']\n",
      " [b'_' b'_' b'_' b'x' b'_' b'_' b'x' b'_' b'_' b'_' b'_' b'x' b'x' b'_']\n",
      " [b'_' b'_' b'_' b'x' b'_' b'_' b'_' b'_' b'_' b'_' b'_' b'x' b'x' b'G']\n",
      " [b'_' b'_' b'_' b'x' b'_' b'_' b'_' b'_' b'_' b'_' b'_' b'x' b'x' b'_']]\n",
      "step: 31, state: (1, 9, 1, 10), actions: 4, reward: -8\n",
      "Action: 4\n",
      "[[b'_' b'_' b'_' b'_' b'_' b'_' b'x' b'x' b'_' b'_' b'_' b'_' b'_' b'_']\n",
      " [b'_' b'_' b'_' b'_' b'_' b'_' b'x' b'x' b'_' b'A' b'B' b'_' b'_' b'_']\n",
      " [b'_' b'_' b'_' b'x' b'_' b'_' b'x' b'x' b'_' b'_' b'_' b'_' b'x' b'_']\n",
      " [b'_' b'_' b'_' b'x' b'_' b'_' b'x' b'_' b'_' b'_' b'_' b'x' b'x' b'_']\n",
      " [b'_' b'_' b'_' b'x' b'_' b'_' b'_' b'_' b'_' b'_' b'_' b'x' b'x' b'G']\n",
      " [b'_' b'_' b'_' b'x' b'_' b'_' b'_' b'_' b'_' b'_' b'_' b'x' b'x' b'_']]\n",
      "step: 32, state: (1, 10, 1, 11), actions: 4, reward: -7\n",
      "Action: 4\n",
      "[[b'_' b'_' b'_' b'_' b'_' b'_' b'x' b'x' b'_' b'_' b'_' b'_' b'_' b'_']\n",
      " [b'_' b'_' b'_' b'_' b'_' b'_' b'x' b'x' b'_' b'_' b'A' b'B' b'_' b'_']\n",
      " [b'_' b'_' b'_' b'x' b'_' b'_' b'x' b'x' b'_' b'_' b'_' b'_' b'x' b'_']\n",
      " [b'_' b'_' b'_' b'x' b'_' b'_' b'x' b'_' b'_' b'_' b'_' b'x' b'x' b'_']\n",
      " [b'_' b'_' b'_' b'x' b'_' b'_' b'_' b'_' b'_' b'_' b'_' b'x' b'x' b'G']\n",
      " [b'_' b'_' b'_' b'x' b'_' b'_' b'_' b'_' b'_' b'_' b'_' b'x' b'x' b'_']]\n",
      "step: 33, state: (1, 9, 1, 11), actions: 3, reward: -8\n",
      "Action: 3\n",
      "[[b'_' b'_' b'_' b'_' b'_' b'_' b'x' b'x' b'_' b'_' b'_' b'_' b'_' b'_']\n",
      " [b'_' b'_' b'_' b'_' b'_' b'_' b'x' b'x' b'_' b'A' b'_' b'B' b'_' b'_']\n",
      " [b'_' b'_' b'_' b'x' b'_' b'_' b'x' b'x' b'_' b'_' b'_' b'_' b'x' b'_']\n",
      " [b'_' b'_' b'_' b'x' b'_' b'_' b'x' b'_' b'_' b'_' b'_' b'x' b'x' b'_']\n",
      " [b'_' b'_' b'_' b'x' b'_' b'_' b'_' b'_' b'_' b'_' b'_' b'x' b'x' b'G']\n",
      " [b'_' b'_' b'_' b'x' b'_' b'_' b'_' b'_' b'_' b'_' b'_' b'x' b'x' b'_']]\n",
      "step: 34, state: (2, 9, 1, 11), actions: 2, reward: -9\n",
      "Action: 2\n",
      "[[b'_' b'_' b'_' b'_' b'_' b'_' b'x' b'x' b'_' b'_' b'_' b'_' b'_' b'_']\n",
      " [b'_' b'_' b'_' b'_' b'_' b'_' b'x' b'x' b'_' b'_' b'_' b'B' b'_' b'_']\n",
      " [b'_' b'_' b'_' b'x' b'_' b'_' b'x' b'x' b'_' b'A' b'_' b'_' b'x' b'_']\n",
      " [b'_' b'_' b'_' b'x' b'_' b'_' b'x' b'_' b'_' b'_' b'_' b'x' b'x' b'_']\n",
      " [b'_' b'_' b'_' b'x' b'_' b'_' b'_' b'_' b'_' b'_' b'_' b'x' b'x' b'G']\n",
      " [b'_' b'_' b'_' b'x' b'_' b'_' b'_' b'_' b'_' b'_' b'_' b'x' b'x' b'_']]\n",
      "step: 35, state: (2, 10, 1, 11), actions: 4, reward: -8\n",
      "Action: 4\n",
      "[[b'_' b'_' b'_' b'_' b'_' b'_' b'x' b'x' b'_' b'_' b'_' b'_' b'_' b'_']\n",
      " [b'_' b'_' b'_' b'_' b'_' b'_' b'x' b'x' b'_' b'_' b'_' b'B' b'_' b'_']\n",
      " [b'_' b'_' b'_' b'x' b'_' b'_' b'x' b'x' b'_' b'_' b'A' b'_' b'x' b'_']\n",
      " [b'_' b'_' b'_' b'x' b'_' b'_' b'x' b'_' b'_' b'_' b'_' b'x' b'x' b'_']\n",
      " [b'_' b'_' b'_' b'x' b'_' b'_' b'_' b'_' b'_' b'_' b'_' b'x' b'x' b'G']\n",
      " [b'_' b'_' b'_' b'x' b'_' b'_' b'_' b'_' b'_' b'_' b'_' b'x' b'x' b'_']]\n",
      "step: 36, state: (1, 10, 1, 11), actions: 1, reward: -7\n",
      "Action: 1\n",
      "[[b'_' b'_' b'_' b'_' b'_' b'_' b'x' b'x' b'_' b'_' b'_' b'_' b'_' b'_']\n",
      " [b'_' b'_' b'_' b'_' b'_' b'_' b'x' b'x' b'_' b'_' b'A' b'B' b'_' b'_']\n",
      " [b'_' b'_' b'_' b'x' b'_' b'_' b'x' b'x' b'_' b'_' b'_' b'_' b'x' b'_']\n",
      " [b'_' b'_' b'_' b'x' b'_' b'_' b'x' b'_' b'_' b'_' b'_' b'x' b'x' b'_']\n",
      " [b'_' b'_' b'_' b'x' b'_' b'_' b'_' b'_' b'_' b'_' b'_' b'x' b'x' b'G']\n",
      " [b'_' b'_' b'_' b'x' b'_' b'_' b'_' b'_' b'_' b'_' b'_' b'x' b'x' b'_']]\n",
      "step: 37, state: (1, 11, 1, 12), actions: 4, reward: -6\n",
      "Action: 4\n",
      "[[b'_' b'_' b'_' b'_' b'_' b'_' b'x' b'x' b'_' b'_' b'_' b'_' b'_' b'_']\n",
      " [b'_' b'_' b'_' b'_' b'_' b'_' b'x' b'x' b'_' b'_' b'_' b'A' b'B' b'_']\n",
      " [b'_' b'_' b'_' b'x' b'_' b'_' b'x' b'x' b'_' b'_' b'_' b'_' b'x' b'_']\n",
      " [b'_' b'_' b'_' b'x' b'_' b'_' b'x' b'_' b'_' b'_' b'_' b'x' b'x' b'_']\n",
      " [b'_' b'_' b'_' b'x' b'_' b'_' b'_' b'_' b'_' b'_' b'_' b'x' b'x' b'G']\n",
      " [b'_' b'_' b'_' b'x' b'_' b'_' b'_' b'_' b'_' b'_' b'_' b'x' b'x' b'_']]\n",
      "step: 38, state: (1, 12, 1, 13), actions: 4, reward: -5\n",
      "Action: 4\n",
      "[[b'_' b'_' b'_' b'_' b'_' b'_' b'x' b'x' b'_' b'_' b'_' b'_' b'_' b'_']\n",
      " [b'_' b'_' b'_' b'_' b'_' b'_' b'x' b'x' b'_' b'_' b'_' b'_' b'A' b'B']\n",
      " [b'_' b'_' b'_' b'x' b'_' b'_' b'x' b'x' b'_' b'_' b'_' b'_' b'x' b'_']\n",
      " [b'_' b'_' b'_' b'x' b'_' b'_' b'x' b'_' b'_' b'_' b'_' b'x' b'x' b'_']\n",
      " [b'_' b'_' b'_' b'x' b'_' b'_' b'_' b'_' b'_' b'_' b'_' b'x' b'x' b'G']\n",
      " [b'_' b'_' b'_' b'x' b'_' b'_' b'_' b'_' b'_' b'_' b'_' b'x' b'x' b'_']]\n",
      "step: 39, state: (0, 12, 1, 13), actions: 1, reward: -6\n",
      "Action: 1\n",
      "[[b'_' b'_' b'_' b'_' b'_' b'_' b'x' b'x' b'_' b'_' b'_' b'_' b'A' b'_']\n",
      " [b'_' b'_' b'_' b'_' b'_' b'_' b'x' b'x' b'_' b'_' b'_' b'_' b'_' b'B']\n",
      " [b'_' b'_' b'_' b'x' b'_' b'_' b'x' b'x' b'_' b'_' b'_' b'_' b'x' b'_']\n",
      " [b'_' b'_' b'_' b'x' b'_' b'_' b'x' b'_' b'_' b'_' b'_' b'x' b'x' b'_']\n",
      " [b'_' b'_' b'_' b'x' b'_' b'_' b'_' b'_' b'_' b'_' b'_' b'x' b'x' b'G']\n",
      " [b'_' b'_' b'_' b'x' b'_' b'_' b'_' b'_' b'_' b'_' b'_' b'x' b'x' b'_']]\n",
      "step: 40, state: (0, 13, 1, 13), actions: 4, reward: -5\n",
      "Action: 4\n",
      "[[b'_' b'_' b'_' b'_' b'_' b'_' b'x' b'x' b'_' b'_' b'_' b'_' b'_' b'A']\n",
      " [b'_' b'_' b'_' b'_' b'_' b'_' b'x' b'x' b'_' b'_' b'_' b'_' b'_' b'B']\n",
      " [b'_' b'_' b'_' b'x' b'_' b'_' b'x' b'x' b'_' b'_' b'_' b'_' b'x' b'_']\n",
      " [b'_' b'_' b'_' b'x' b'_' b'_' b'x' b'_' b'_' b'_' b'_' b'x' b'x' b'_']\n",
      " [b'_' b'_' b'_' b'x' b'_' b'_' b'_' b'_' b'_' b'_' b'_' b'x' b'x' b'G']\n",
      " [b'_' b'_' b'_' b'x' b'_' b'_' b'_' b'_' b'_' b'_' b'_' b'x' b'x' b'_']]\n",
      "step: 41, state: (1, 13, 2, 13), actions: 2, reward: -4\n",
      "Action: 2\n",
      "[[b'_' b'_' b'_' b'_' b'_' b'_' b'x' b'x' b'_' b'_' b'_' b'_' b'_' b'_']\n",
      " [b'_' b'_' b'_' b'_' b'_' b'_' b'x' b'x' b'_' b'_' b'_' b'_' b'_' b'A']\n",
      " [b'_' b'_' b'_' b'x' b'_' b'_' b'x' b'x' b'_' b'_' b'_' b'_' b'x' b'B']\n",
      " [b'_' b'_' b'_' b'x' b'_' b'_' b'x' b'_' b'_' b'_' b'_' b'x' b'x' b'_']\n",
      " [b'_' b'_' b'_' b'x' b'_' b'_' b'_' b'_' b'_' b'_' b'_' b'x' b'x' b'G']\n",
      " [b'_' b'_' b'_' b'x' b'_' b'_' b'_' b'_' b'_' b'_' b'_' b'x' b'x' b'_']]\n",
      "step: 42, state: (2, 13, 3, 13), actions: 2, reward: -3\n",
      "Action: 2\n",
      "[[b'_' b'_' b'_' b'_' b'_' b'_' b'x' b'x' b'_' b'_' b'_' b'_' b'_' b'_']\n",
      " [b'_' b'_' b'_' b'_' b'_' b'_' b'x' b'x' b'_' b'_' b'_' b'_' b'_' b'_']\n",
      " [b'_' b'_' b'_' b'x' b'_' b'_' b'x' b'x' b'_' b'_' b'_' b'_' b'x' b'A']\n",
      " [b'_' b'_' b'_' b'x' b'_' b'_' b'x' b'_' b'_' b'_' b'_' b'x' b'x' b'B']\n",
      " [b'_' b'_' b'_' b'x' b'_' b'_' b'_' b'_' b'_' b'_' b'_' b'x' b'x' b'G']\n",
      " [b'_' b'_' b'_' b'x' b'_' b'_' b'_' b'_' b'_' b'_' b'_' b'x' b'x' b'_']]\n",
      "step: 43, state: (3, 13, 4, 13), actions: 2, reward: 998\n",
      "Action: 2\n",
      "[[b'_' b'_' b'_' b'_' b'_' b'_' b'x' b'x' b'_' b'_' b'_' b'_' b'_' b'_']\n",
      " [b'_' b'_' b'_' b'_' b'_' b'_' b'x' b'x' b'_' b'_' b'_' b'_' b'_' b'_']\n",
      " [b'_' b'_' b'_' b'x' b'_' b'_' b'x' b'x' b'_' b'_' b'_' b'_' b'x' b'_']\n",
      " [b'_' b'_' b'_' b'x' b'_' b'_' b'x' b'_' b'_' b'_' b'_' b'x' b'x' b'A']\n",
      " [b'_' b'_' b'_' b'x' b'_' b'_' b'_' b'_' b'_' b'_' b'_' b'x' b'x' b'B']\n",
      " [b'_' b'_' b'_' b'x' b'_' b'_' b'_' b'_' b'_' b'_' b'_' b'x' b'x' b'_']]\n",
      "rewards: 571\n",
      "action history: [4, 4, 3, 1, 1, 1, 3, 1, 4, 4, 4, 4, 1, 4, 2, 2, 2, 3, 2, 4, 4, 4, 4, 2, 4, 1, 1, 1, 3, 1, 4, 4, 3, 2, 4, 1, 4, 4, 1, 4, 2, 2, 2]\n"
     ]
    }
   ],
   "source": [
    "env = CliffBoxGridWorld(render=True) # 这里是跑一次 然后每一步都显示出来\n",
    "state = env.reset()\n",
    "env.print_world()\n",
    "done = False\n",
    "rewards = []\n",
    "\n",
    "while not done: # Run until game terminated\n",
    "    action = agent.act(state)\n",
    "    next_state, reward, done, info = env.step(action)\n",
    "    state = next_state\n",
    "    rewards.append(reward)\n",
    "    print(f'step: {env.timesteps}, state: {state}, actions: {action}, reward: {reward}')\n",
    "    env.print_world()\n",
    "\n",
    "print(f'rewards: {sum(rewards)}')\n",
    "print(f'action history: {env.action_history}')"
   ]
  },
  {
   "cell_type": "code",
   "execution_count": null,
   "metadata": {},
   "outputs": [],
   "source": []
  }
 ],
 "metadata": {
  "colab": {
   "authorship_tag": "ABX9TyP9ohMoS+Jycd5V49qgyi7u",
   "provenance": [
    {
     "file_id": "1IDOYe2na06C1FbbHae02fQ1NwoG3NUDg",
     "timestamp": 1676470026430
    },
    {
     "file_id": "1bRDhABxWGe-LIeWgzQl8GGkBmf9iKyuz",
     "timestamp": 1676444626866
    }
   ]
  },
  "kernelspec": {
   "display_name": "Python 3 (ipykernel)",
   "language": "python",
   "name": "python3"
  },
  "language_info": {
   "codemirror_mode": {
    "name": "ipython",
    "version": 3
   },
   "file_extension": ".py",
   "mimetype": "text/x-python",
   "name": "python",
   "nbconvert_exporter": "python",
   "pygments_lexer": "ipython3",
   "version": "3.12.4"
  },
  "vscode": {
   "interpreter": {
    "hash": "2372fb78870ca5ddfbb77edbd31465c7991d171e5767f3094f475408094f996f"
   }
  }
 },
 "nbformat": 4,
 "nbformat_minor": 4
}
